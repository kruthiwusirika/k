{
 "cells": [
  {
   "cell_type": "markdown",
   "id": "2094e859",
   "metadata": {},
   "source": [
    "IMPORTING ALL THE LIBRARIES"
   ]
  },
  {
   "cell_type": "code",
   "execution_count": 1,
   "id": "74623503",
   "metadata": {},
   "outputs": [],
   "source": [
    "import pandas as pd\n",
    "import numpy as np\n",
    "import seaborn as sn\n",
    "import matplotlib.pyplot as plt\n",
    "from sklearn.neighbors import KNeighborsClassifier\n",
    "from sklearn.preprocessing import StandardScaler\n",
    "from sklearn.model_selection import train_test_split\n",
    "from sklearn.metrics import classification_report,confusion_matrix\n",
    "from tqdm import tqdm\n",
    "import warnings\n",
    "warnings.filterwarnings(\"ignore\")\n",
    "%matplotlib inline"
   ]
  },
  {
   "cell_type": "markdown",
   "id": "699e2952",
   "metadata": {},
   "source": [
    "LOADING THE DATA"
   ]
  },
  {
   "cell_type": "code",
   "execution_count": 2,
   "id": "0a721620",
   "metadata": {},
   "outputs": [
    {
     "data": {
      "text/html": [
       "<div>\n",
       "<style scoped>\n",
       "    .dataframe tbody tr th:only-of-type {\n",
       "        vertical-align: middle;\n",
       "    }\n",
       "\n",
       "    .dataframe tbody tr th {\n",
       "        vertical-align: top;\n",
       "    }\n",
       "\n",
       "    .dataframe thead th {\n",
       "        text-align: right;\n",
       "    }\n",
       "</style>\n",
       "<table border=\"1\" class=\"dataframe\">\n",
       "  <thead>\n",
       "    <tr style=\"text-align: right;\">\n",
       "      <th></th>\n",
       "      <th>Uniformity of Cell Size</th>\n",
       "      <th>Uniformity of Cell Shape</th>\n",
       "      <th>Marginal Adhesion</th>\n",
       "      <th>Single Epithelial Cell Size</th>\n",
       "      <th>Bare Nuclei</th>\n",
       "      <th>Bland Chromatin</th>\n",
       "      <th>Normal Nucleoli</th>\n",
       "      <th>Mitoses</th>\n",
       "    </tr>\n",
       "  </thead>\n",
       "  <tbody>\n",
       "    <tr>\n",
       "      <th>0</th>\n",
       "      <td>1</td>\n",
       "      <td>1</td>\n",
       "      <td>1</td>\n",
       "      <td>2</td>\n",
       "      <td>1</td>\n",
       "      <td>3</td>\n",
       "      <td>1</td>\n",
       "      <td>1</td>\n",
       "    </tr>\n",
       "    <tr>\n",
       "      <th>1</th>\n",
       "      <td>4</td>\n",
       "      <td>4</td>\n",
       "      <td>5</td>\n",
       "      <td>7</td>\n",
       "      <td>10</td>\n",
       "      <td>3</td>\n",
       "      <td>2</td>\n",
       "      <td>1</td>\n",
       "    </tr>\n",
       "    <tr>\n",
       "      <th>2</th>\n",
       "      <td>1</td>\n",
       "      <td>1</td>\n",
       "      <td>1</td>\n",
       "      <td>2</td>\n",
       "      <td>2</td>\n",
       "      <td>3</td>\n",
       "      <td>1</td>\n",
       "      <td>1</td>\n",
       "    </tr>\n",
       "    <tr>\n",
       "      <th>3</th>\n",
       "      <td>8</td>\n",
       "      <td>8</td>\n",
       "      <td>1</td>\n",
       "      <td>3</td>\n",
       "      <td>4</td>\n",
       "      <td>3</td>\n",
       "      <td>7</td>\n",
       "      <td>1</td>\n",
       "    </tr>\n",
       "    <tr>\n",
       "      <th>4</th>\n",
       "      <td>1</td>\n",
       "      <td>1</td>\n",
       "      <td>3</td>\n",
       "      <td>2</td>\n",
       "      <td>1</td>\n",
       "      <td>3</td>\n",
       "      <td>1</td>\n",
       "      <td>1</td>\n",
       "    </tr>\n",
       "  </tbody>\n",
       "</table>\n",
       "</div>"
      ],
      "text/plain": [
       "   Uniformity of Cell Size  Uniformity of Cell Shape  Marginal Adhesion  \\\n",
       "0                        1                         1                  1   \n",
       "1                        4                         4                  5   \n",
       "2                        1                         1                  1   \n",
       "3                        8                         8                  1   \n",
       "4                        1                         1                  3   \n",
       "\n",
       "   Single Epithelial Cell Size Bare Nuclei  Bland Chromatin  Normal Nucleoli  \\\n",
       "0                            2           1                3                1   \n",
       "1                            7          10                3                2   \n",
       "2                            2           2                3                1   \n",
       "3                            3           4                3                7   \n",
       "4                            2           1                3                1   \n",
       "\n",
       "   Mitoses  \n",
       "0        1  \n",
       "1        1  \n",
       "2        1  \n",
       "3        1  \n",
       "4        1  "
      ]
     },
     "execution_count": 2,
     "metadata": {},
     "output_type": "execute_result"
    }
   ],
   "source": [
    "data = pd.read_csv('breast-cancer-wisconsin.csv')\n",
    "data = data[data['F6'].str.isnumeric()]\n",
    "columns = list(data.columns)\n",
    "data = data[columns[1:]].drop_duplicates()\n",
    "data.rename({'F1': 'Clump Thickness',\"F2\": \"Uniformity of Cell Size\",       \n",
    "   \"F3\":\"Uniformity of Cell Shape\",\n",
    "   \"F4\": \"Marginal Adhesion\",             \n",
    "   \"F5\": \"Single Epithelial Cell Size\",   \n",
    "   \"F6\": \"Bare Nuclei\",                   \n",
    "   \"F7\": \"Bland Chromatin\",               \n",
    "   \"F8\": \"Normal Nucleoli\",               \n",
    "   \"F9\": \"Mitoses\"}, axis=1, inplace=True)\n",
    "columns = list(data.columns)\n",
    "x, y = data[columns[1:-1]], data[columns[-1]]\n",
    "x.head()"
   ]
  },
  {
   "cell_type": "code",
   "execution_count": 3,
   "id": "6dffb6e2",
   "metadata": {
    "scrolled": true
   },
   "outputs": [
    {
     "data": {
      "text/html": [
       "<div>\n",
       "<style scoped>\n",
       "    .dataframe tbody tr th:only-of-type {\n",
       "        vertical-align: middle;\n",
       "    }\n",
       "\n",
       "    .dataframe tbody tr th {\n",
       "        vertical-align: top;\n",
       "    }\n",
       "\n",
       "    .dataframe thead th {\n",
       "        text-align: right;\n",
       "    }\n",
       "</style>\n",
       "<table border=\"1\" class=\"dataframe\">\n",
       "  <thead>\n",
       "    <tr style=\"text-align: right;\">\n",
       "      <th></th>\n",
       "      <th>Uniformity of Cell Size</th>\n",
       "      <th>Uniformity of Cell Shape</th>\n",
       "      <th>Marginal Adhesion</th>\n",
       "      <th>Single Epithelial Cell Size</th>\n",
       "      <th>Bare Nuclei</th>\n",
       "      <th>Bland Chromatin</th>\n",
       "      <th>Normal Nucleoli</th>\n",
       "      <th>Mitoses</th>\n",
       "    </tr>\n",
       "  </thead>\n",
       "  <tbody>\n",
       "    <tr>\n",
       "      <th>0</th>\n",
       "      <td>1</td>\n",
       "      <td>1</td>\n",
       "      <td>1</td>\n",
       "      <td>2</td>\n",
       "      <td>1</td>\n",
       "      <td>3</td>\n",
       "      <td>1</td>\n",
       "      <td>1</td>\n",
       "    </tr>\n",
       "    <tr>\n",
       "      <th>1</th>\n",
       "      <td>4</td>\n",
       "      <td>4</td>\n",
       "      <td>5</td>\n",
       "      <td>7</td>\n",
       "      <td>10</td>\n",
       "      <td>3</td>\n",
       "      <td>2</td>\n",
       "      <td>1</td>\n",
       "    </tr>\n",
       "    <tr>\n",
       "      <th>2</th>\n",
       "      <td>1</td>\n",
       "      <td>1</td>\n",
       "      <td>1</td>\n",
       "      <td>2</td>\n",
       "      <td>2</td>\n",
       "      <td>3</td>\n",
       "      <td>1</td>\n",
       "      <td>1</td>\n",
       "    </tr>\n",
       "    <tr>\n",
       "      <th>3</th>\n",
       "      <td>8</td>\n",
       "      <td>8</td>\n",
       "      <td>1</td>\n",
       "      <td>3</td>\n",
       "      <td>4</td>\n",
       "      <td>3</td>\n",
       "      <td>7</td>\n",
       "      <td>1</td>\n",
       "    </tr>\n",
       "    <tr>\n",
       "      <th>4</th>\n",
       "      <td>1</td>\n",
       "      <td>1</td>\n",
       "      <td>3</td>\n",
       "      <td>2</td>\n",
       "      <td>1</td>\n",
       "      <td>3</td>\n",
       "      <td>1</td>\n",
       "      <td>1</td>\n",
       "    </tr>\n",
       "  </tbody>\n",
       "</table>\n",
       "</div>"
      ],
      "text/plain": [
       "   Uniformity of Cell Size  Uniformity of Cell Shape  Marginal Adhesion  \\\n",
       "0                        1                         1                  1   \n",
       "1                        4                         4                  5   \n",
       "2                        1                         1                  1   \n",
       "3                        8                         8                  1   \n",
       "4                        1                         1                  3   \n",
       "\n",
       "   Single Epithelial Cell Size Bare Nuclei  Bland Chromatin  Normal Nucleoli  \\\n",
       "0                            2           1                3                1   \n",
       "1                            7          10                3                2   \n",
       "2                            2           2                3                1   \n",
       "3                            3           4                3                7   \n",
       "4                            2           1                3                1   \n",
       "\n",
       "   Mitoses  \n",
       "0        1  \n",
       "1        1  \n",
       "2        1  \n",
       "3        1  \n",
       "4        1  "
      ]
     },
     "execution_count": 3,
     "metadata": {},
     "output_type": "execute_result"
    }
   ],
   "source": [
    "x = x.dropna()\n",
    "x.head(5)"
   ]
  },
  {
   "cell_type": "code",
   "execution_count": 4,
   "id": "5a58d66a",
   "metadata": {},
   "outputs": [
    {
     "data": {
      "text/html": [
       "<div>\n",
       "<style scoped>\n",
       "    .dataframe tbody tr th:only-of-type {\n",
       "        vertical-align: middle;\n",
       "    }\n",
       "\n",
       "    .dataframe tbody tr th {\n",
       "        vertical-align: top;\n",
       "    }\n",
       "\n",
       "    .dataframe thead th {\n",
       "        text-align: right;\n",
       "    }\n",
       "</style>\n",
       "<table border=\"1\" class=\"dataframe\">\n",
       "  <thead>\n",
       "    <tr style=\"text-align: right;\">\n",
       "      <th></th>\n",
       "      <th>0</th>\n",
       "      <th>1</th>\n",
       "      <th>2</th>\n",
       "      <th>3</th>\n",
       "      <th>4</th>\n",
       "      <th>5</th>\n",
       "      <th>6</th>\n",
       "      <th>7</th>\n",
       "    </tr>\n",
       "  </thead>\n",
       "  <tbody>\n",
       "    <tr>\n",
       "      <th>0</th>\n",
       "      <td>-0.992321</td>\n",
       "      <td>-1.043323</td>\n",
       "      <td>-0.870426</td>\n",
       "      <td>-0.766047</td>\n",
       "      <td>-0.981954</td>\n",
       "      <td>-0.453224</td>\n",
       "      <td>-0.836003</td>\n",
       "      <td>-0.441855</td>\n",
       "    </tr>\n",
       "    <tr>\n",
       "      <th>1</th>\n",
       "      <td>-0.068578</td>\n",
       "      <td>-0.087298</td>\n",
       "      <td>0.397445</td>\n",
       "      <td>1.271602</td>\n",
       "      <td>1.339916</td>\n",
       "      <td>-0.453224</td>\n",
       "      <td>-0.540440</td>\n",
       "      <td>-0.441855</td>\n",
       "    </tr>\n",
       "    <tr>\n",
       "      <th>2</th>\n",
       "      <td>-0.992321</td>\n",
       "      <td>-1.043323</td>\n",
       "      <td>-0.870426</td>\n",
       "      <td>-0.766047</td>\n",
       "      <td>-0.723968</td>\n",
       "      <td>-0.453224</td>\n",
       "      <td>-0.836003</td>\n",
       "      <td>-0.441855</td>\n",
       "    </tr>\n",
       "    <tr>\n",
       "      <th>3</th>\n",
       "      <td>1.163079</td>\n",
       "      <td>1.187401</td>\n",
       "      <td>-0.870426</td>\n",
       "      <td>-0.358517</td>\n",
       "      <td>-0.207997</td>\n",
       "      <td>-0.453224</td>\n",
       "      <td>0.937376</td>\n",
       "      <td>-0.441855</td>\n",
       "    </tr>\n",
       "    <tr>\n",
       "      <th>4</th>\n",
       "      <td>-0.992321</td>\n",
       "      <td>-1.043323</td>\n",
       "      <td>-0.236491</td>\n",
       "      <td>-0.766047</td>\n",
       "      <td>-0.981954</td>\n",
       "      <td>-0.453224</td>\n",
       "      <td>-0.836003</td>\n",
       "      <td>-0.441855</td>\n",
       "    </tr>\n",
       "  </tbody>\n",
       "</table>\n",
       "</div>"
      ],
      "text/plain": [
       "          0         1         2         3         4         5         6  \\\n",
       "0 -0.992321 -1.043323 -0.870426 -0.766047 -0.981954 -0.453224 -0.836003   \n",
       "1 -0.068578 -0.087298  0.397445  1.271602  1.339916 -0.453224 -0.540440   \n",
       "2 -0.992321 -1.043323 -0.870426 -0.766047 -0.723968 -0.453224 -0.836003   \n",
       "3  1.163079  1.187401 -0.870426 -0.358517 -0.207997 -0.453224  0.937376   \n",
       "4 -0.992321 -1.043323 -0.236491 -0.766047 -0.981954 -0.453224 -0.836003   \n",
       "\n",
       "          7  \n",
       "0 -0.441855  \n",
       "1 -0.441855  \n",
       "2 -0.441855  \n",
       "3 -0.441855  \n",
       "4 -0.441855  "
      ]
     },
     "execution_count": 4,
     "metadata": {},
     "output_type": "execute_result"
    }
   ],
   "source": [
    "scaler = StandardScaler()\n",
    "scaler = scaler.fit(x)\n",
    "x = pd.DataFrame(scaler.transform(x))\n",
    "x.head()"
   ]
  },
  {
   "cell_type": "markdown",
   "id": "3750ec07",
   "metadata": {},
   "source": [
    "SPLITTING THE DATA INTO TRAINING AND TESTING"
   ]
  },
  {
   "cell_type": "code",
   "execution_count": 5,
   "id": "c75babec",
   "metadata": {},
   "outputs": [],
   "source": [
    "X_train, X_test, y_train, y_test = train_test_split(x, y, test_size=0.30)"
   ]
  },
  {
   "cell_type": "markdown",
   "id": "1a4cd5a5",
   "metadata": {},
   "source": [
    "BUILDING KNN MODELS FOR K VALUES 3,5,10"
   ]
  },
  {
   "cell_type": "code",
   "execution_count": 6,
   "id": "53b0b004",
   "metadata": {
    "scrolled": true
   },
   "outputs": [
    {
     "name": "stdout",
     "output_type": "stream",
     "text": [
      "WITH K = 3:\n",
      "confusion matrix: \n",
      " [[72  4]\n",
      " [ 4 55]]\n",
      "classification report: \n",
      "               precision    recall  f1-score   support\n",
      "\n",
      "           2       0.95      0.95      0.95        76\n",
      "           4       0.93      0.93      0.93        59\n",
      "\n",
      "    accuracy                           0.94       135\n",
      "   macro avg       0.94      0.94      0.94       135\n",
      "weighted avg       0.94      0.94      0.94       135\n",
      "\n",
      "\n",
      "\n",
      "\n",
      "\n",
      "WITH K = 5:\n",
      "confusion matrix: \n",
      " [[70  6]\n",
      " [ 4 55]]\n",
      "classification report: \n",
      "               precision    recall  f1-score   support\n",
      "\n",
      "           2       0.95      0.92      0.93        76\n",
      "           4       0.90      0.93      0.92        59\n",
      "\n",
      "    accuracy                           0.93       135\n",
      "   macro avg       0.92      0.93      0.92       135\n",
      "weighted avg       0.93      0.93      0.93       135\n",
      "\n",
      "\n",
      "\n",
      "\n",
      "\n",
      "WITH K = 10:\n",
      "confusion matrix: \n",
      " [[72  4]\n",
      " [ 4 55]]\n",
      "classification report: \n",
      "               precision    recall  f1-score   support\n",
      "\n",
      "           2       0.95      0.95      0.95        76\n",
      "           4       0.93      0.93      0.93        59\n",
      "\n",
      "    accuracy                           0.94       135\n",
      "   macro avg       0.94      0.94      0.94       135\n",
      "weighted avg       0.94      0.94      0.94       135\n",
      "\n",
      "\n",
      "\n",
      "\n",
      "\n"
     ]
    }
   ],
   "source": [
    "for i in [3,5,10]:\n",
    "    print('WITH K = {0}:'.format(i))\n",
    "    knn = KNeighborsClassifier(n_neighbors=i)\n",
    "    knn.fit(X_train,y_train)\n",
    "    y_pred = knn.predict(X_test)\n",
    "    print(\"confusion matrix: \\n\", confusion_matrix(y_test,y_pred))\n",
    "    print(\"classification report: \\n\",classification_report(y_test,y_pred))\n",
    "    print(\"\\n\\n\\n\")"
   ]
  },
  {
   "cell_type": "code",
   "execution_count": 7,
   "id": "4067ee56",
   "metadata": {},
   "outputs": [
    {
     "name": "stderr",
     "output_type": "stream",
     "text": [
      "100%|██████████████████████████████████████████| 39/39 [00:00<00:00, 236.25it/s]\n"
     ]
    }
   ],
   "source": [
    "error_rate = []\n",
    "for i in tqdm(range(1,40)):\n",
    "    knn = KNeighborsClassifier(n_neighbors=i)\n",
    "    knn.fit(X_train,y_train)\n",
    "    pred_i = knn.predict(X_test)\n",
    "    error_rate.append(np.mean(pred_i != y_test))"
   ]
  },
  {
   "cell_type": "code",
   "execution_count": 8,
   "id": "aef5da0c",
   "metadata": {},
   "outputs": [
    {
     "data": {
      "text/plain": [
       "Text(0, 0.5, 'Error Rate')"
      ]
     },
     "execution_count": 8,
     "metadata": {},
     "output_type": "execute_result"
    },
    {
     "data": {
      "image/png": "[encoded data removed]",
      "text/plain": [
       "<Figure size 720x432 with 1 Axes>"
      ]
     },
     "metadata": {
      "needs_background": "light"
     },
     "output_type": "display_data"
    }
   ],
   "source": [
    "plt.figure(figsize=(10,6))\n",
    "plt.plot(range(1,40),error_rate,color='blue', linestyle='dashed', marker='o',\n",
    "         markerfacecolor='red', markersize=10)\n",
    "plt.title('Error Rate vs. K Value')\n",
    "plt.xlabel('K')\n",
    "plt.ylabel('Error Rate')"
   ]
  },
  {
   "cell_type": "markdown",
   "id": "aa5873da",
   "metadata": {},
   "source": [
    " - Since the error rate is not fluctuating much from k= 12 so we can consider a moderate k value as k = 15"
   ]
  }
 ],
 "metadata": {
  "kernelspec": {
   "display_name": "Python 3 (ipykernel)",
   "language": "python",
   "name": "python3"
  },
  "language_info": {
   "codemirror_mode": {
    "name": "ipython",
    "version": 3
   },
   "file_extension": ".py",
   "mimetype": "text/x-python",
   "name": "python",
   "nbconvert_exporter": "python",
   "pygments_lexer": "ipython3",
   "version": "3.9.12"
  }
 },
 "nbformat": 4,
 "nbformat_minor": 5
}
